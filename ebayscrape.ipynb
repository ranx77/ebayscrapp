{
 "cells": [
  {
   "cell_type": "code",
   "execution_count": null,
   "metadata": {},
   "outputs": [],
   "source": [
    "import requests\n",
    "from bs4 import BeautifulSoup\n",
    "\n",
    "# Function to shorten URLs using TinyURL's API\n",
    "def shorten_url(url):\n",
    "    api_url = f\"http://tinyurl.com/api-create.php?url={url}\"\n",
    "    try:\n",
    "        response = requests.get(api_url)\n",
    "        response.raise_for_status()  # Raises a HTTPError if the status is 4xx, 5xx\n",
    "        return response.text\n",
    "    except requests.RequestException as e:\n",
    "        print(f\"Error shortening URL {url}: {e}\")\n",
    "        return url  # Return the original URL if there's an error\n",
    "\n",
    "# Replace this URL with the actual URL you're interested in\n",
    "url = 'www.example.com'\n",
    "\n",
    "response = requests.get(url)\n",
    "soup = BeautifulSoup(response.text, 'html.parser')\n",
    "\n",
    "# Find all product links. \n",
    "product_links = []\n",
    "for link in soup.find_all('a', class_='s-item__link'):\n",
    "    product_links.append(link['href'])\n",
    "\n",
    "# Shorten each product link and print as clickable HTML links\n",
    "print(f\"Found {len(product_links)} product links:\")\n",
    "for product_link in product_links:\n",
    "    short_link = shorten_url(product_link)\n",
    "    # Modify here to only include the shortened URL in the href attribute\n",
    "    html_link = f'<a href=\"{short_link}\"></a>'\n",
    "    print(html_link)\n"
   ]
  }
 ],
 "metadata": {
  "kernelspec": {
   "display_name": "base",
   "language": "python",
   "name": "python3"
  },
  "language_info": {
   "codemirror_mode": {
    "name": "ipython",
    "version": 3
   },
   "file_extension": ".py",
   "mimetype": "text/x-python",
   "name": "python",
   "nbconvert_exporter": "python",
   "pygments_lexer": "ipython3",
   "version": "3.11.4"
  }
 },
 "nbformat": 4,
 "nbformat_minor": 2
}
