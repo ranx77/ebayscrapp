{
 "cells": [
  {
   "cell_type": "code",
   "execution_count": null,
   "metadata": {},
   "outputs": [],
   "source": [
    "import requests\n",
    "from bs4 import BeautifulSoup\n",
    "\n",
    "# Replace this URL with the actual URL you're interested in\n",
    "url = 'www.example.com'\n",
    "\n",
    "response = requests.get(url)\n",
    "soup = BeautifulSoup(response.text, 'html.parser')\n",
    "\n",
    "# Find all product links. \n",
    "product_links = []\n",
    "for link in soup.find_all('a', class_='s-item__link'):\n",
    "    product_links.append(link['href'])\n",
    "\n",
    "# Print all product links as clickable HTML links\n",
    "print(f\"Found {len(product_links)} product links:\")\n",
    "for product_link in product_links:\n",
    "    html_link = f'<a href=\"{product_link}\">{product_link}</a>'\n",
    "    print(html_link)\n"
   ]
  }
 ],
 "metadata": {
  "kernelspec": {
   "display_name": "base",
   "language": "python",
   "name": "python3"
  },
  "language_info": {
   "codemirror_mode": {
    "name": "ipython",
    "version": 3
   },
   "file_extension": ".py",
   "mimetype": "text/x-python",
   "name": "python",
   "nbconvert_exporter": "python",
   "pygments_lexer": "ipython3",
   "version": "3.11.4"
  }
 },
 "nbformat": 4,
 "nbformat_minor": 2
}
